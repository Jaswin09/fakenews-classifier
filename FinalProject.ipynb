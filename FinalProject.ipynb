{
  "nbformat": 4,
  "nbformat_minor": 0,
  "metadata": {
    "colab": {
      "name": "FinalProject.ipynb",
      "provenance": []
    },
    "kernelspec": {
      "name": "python3",
      "display_name": "Python 3"
    }
  },
  "cells": [
    {
      "cell_type": "code",
      "metadata": {
        "id": "ynNu0HZ7tB5I",
        "colab_type": "code",
        "colab": {
          "base_uri": "https://localhost:8080/",
          "height": 150
        },
        "outputId": "d680909b-36f8-4f32-d940-65af39703207"
      },
      "source": [
        "from google.colab import drive\n",
        "drive.mount('/content/drive',force_remount=True)\n",
        "!ls \"/content/drive/My Drive/Project\"\n",
        "!pip install -U scikit-learn"
      ],
      "execution_count": null,
      "outputs": [
        {
          "output_type": "stream",
          "text": [
            "Mounted at /content/drive\n",
            "aftertrain.csv\t logregmodel.pkl  test.csv   train.csv\n",
            "corona_fake.csv  submit.csv\t  tfidf.pkl\n",
            "Requirement already up-to-date: scikit-learn in /usr/local/lib/python3.6/dist-packages (0.23.1)\n",
            "Requirement already satisfied, skipping upgrade: scipy>=0.19.1 in /usr/local/lib/python3.6/dist-packages (from scikit-learn) (1.4.1)\n",
            "Requirement already satisfied, skipping upgrade: numpy>=1.13.3 in /usr/local/lib/python3.6/dist-packages (from scikit-learn) (1.18.5)\n",
            "Requirement already satisfied, skipping upgrade: joblib>=0.11 in /usr/local/lib/python3.6/dist-packages (from scikit-learn) (0.15.1)\n",
            "Requirement already satisfied, skipping upgrade: threadpoolctl>=2.0.0 in /usr/local/lib/python3.6/dist-packages (from scikit-learn) (2.1.0)\n"
          ],
          "name": "stdout"
        }
      ]
    },
    {
      "cell_type": "code",
      "metadata": {
        "id": "a6_8_7TWr4yP",
        "colab_type": "code",
        "colab": {
          "base_uri": "https://localhost:8080/",
          "height": 84
        },
        "outputId": "eaaa5b29-5adf-44cd-d582-c213c5baad76"
      },
      "source": [
        "import numpy as np\n",
        "import pandas as pd\n",
        "import nltk\n",
        "nltk.download('punkt')\n",
        "nltk.download('stopwords')\n",
        "from sklearn.feature_extraction.text import TfidfVectorizer\n",
        "from sklearn.model_selection import train_test_split\n",
        "from sklearn.linear_model import LogisticRegression\n",
        "from sklearn.naive_bayes import MultinomialNB\n",
        "from nltk.stem import PorterStemmer \n",
        "from nltk.tokenize import word_tokenize \n",
        "from nltk.corpus import stopwords\n"
      ],
      "execution_count": null,
      "outputs": [
        {
          "output_type": "stream",
          "text": [
            "[nltk_data] Downloading package punkt to /root/nltk_data...\n",
            "[nltk_data]   Package punkt is already up-to-date!\n",
            "[nltk_data] Downloading package stopwords to /root/nltk_data...\n",
            "[nltk_data]   Package stopwords is already up-to-date!\n"
          ],
          "name": "stdout"
        }
      ]
    },
    {
      "cell_type": "code",
      "metadata": {
        "id": "5WPQ9OvXATNu",
        "colab_type": "code",
        "colab": {}
      },
      "source": [
        "def preprocess(df):\n",
        "  ps= PorterStemmer()\n",
        "  stopWords = set(stopwords.words('english'))\n",
        "  train['pro']=' '\n",
        "  for i in range(len(df['full'])):\n",
        "    words = word_tokenize(df['full'][i])\n",
        "    stem=[]\n",
        "    for w in words:\n",
        "      if w not in stopWords:\n",
        "        stem.append(ps.stem(w))\n",
        "    df.loc[i,'pro']=' '.join(stem)"
      ],
      "execution_count": null,
      "outputs": []
    },
    {
      "cell_type": "code",
      "metadata": {
        "id": "WNUm0rylw5cM",
        "colab_type": "code",
        "colab": {}
      },
      "source": [
        "train = pd.read_csv('/content/drive/My Drive/Project/train.csv')\n",
        "test = pd.read_csv('/content/drive/My Drive/Project/test.csv')\n",
        "corona=pd.read_csv('/content/drive/My Drive/Project/corona_fake.csv')"
      ],
      "execution_count": null,
      "outputs": []
    },
    {
      "cell_type": "code",
      "metadata": {
        "id": "ghco14pKxHXM",
        "colab_type": "code",
        "colab": {
          "base_uri": "https://localhost:8080/",
          "height": 418
        },
        "outputId": "e926fecb-dc74-4496-bbda-4c263420694b"
      },
      "source": [
        "print(train['label'])\n",
        "test['label']  = '2'\n",
        "test['label']"
      ],
      "execution_count": null,
      "outputs": [
        {
          "output_type": "stream",
          "text": [
            "0        1\n",
            "1        0\n",
            "2        1\n",
            "3        1\n",
            "4        1\n",
            "        ..\n",
            "20795    0\n",
            "20796    0\n",
            "20797    0\n",
            "20798    1\n",
            "20799    1\n",
            "Name: label, Length: 20800, dtype: int64\n"
          ],
          "name": "stdout"
        },
        {
          "output_type": "execute_result",
          "data": {
            "text/plain": [
              "0       2\n",
              "1       2\n",
              "2       2\n",
              "3       2\n",
              "4       2\n",
              "       ..\n",
              "5195    2\n",
              "5196    2\n",
              "5197    2\n",
              "5198    2\n",
              "5199    2\n",
              "Name: label, Length: 5200, dtype: object"
            ]
          },
          "metadata": {
            "tags": []
          },
          "execution_count": 47
        }
      ]
    },
    {
      "cell_type": "code",
      "metadata": {
        "id": "6f8vYFK-xuX6",
        "colab_type": "code",
        "colab": {}
      },
      "source": [
        "test=test.fillna(' ')\n",
        "train=train.fillna(' ')\n",
        "corona=corona.fillna(' ')\n",
        "test['full']=test['title']+' '+test['author']+test['text']\n",
        "train['full']=train['title']+' '+train['author']+train['text']\n",
        "corona['full']=corona['text']"
      ],
      "execution_count": null,
      "outputs": []
    },
    {
      "cell_type": "code",
      "metadata": {
        "id": "FAHB9JvKt9mv",
        "colab_type": "code",
        "colab": {}
      },
      "source": [
        "for i in range(len(corona['label'])):\n",
        "  if corona['label'][i] == \"Fake\":\n",
        "    corona['label'][i] = np.int64(1)\n",
        "  else:\n",
        "    corona['label'][i] = np.int64(0)\n",
        "\n",
        "corona_label=np.array(corona['label'],dtype='int')\n",
        "train_label=np.array(train['label'])"
      ],
      "execution_count": null,
      "outputs": []
    },
    {
      "cell_type": "code",
      "metadata": {
        "id": "00BdzUOLURM5",
        "colab_type": "code",
        "colab": {}
      },
      "source": [
        "preprocess(test)\n",
        "preprocess(corona)\n",
        "preprocess(train)"
      ],
      "execution_count": null,
      "outputs": []
    },
    {
      "cell_type": "code",
      "metadata": {
        "id": "aHdypOwpf-wk",
        "colab_type": "code",
        "colab": {
          "base_uri": "https://localhost:8080/",
          "height": 84
        },
        "outputId": "1f43c7e3-4b1e-4afc-c1f3-4b0729050726"
      },
      "source": [
        "train_list = list(train['pro'].values)\n",
        "print(len(train_list))\n",
        "corona_list = list(corona['pro'].values)\n",
        "final_list= train_list + corona_list\n",
        "print(len(final_list))\n",
        "\n",
        "trainy_list = list(np.array(train['label']))\n",
        "print(len(trainy_list))\n",
        "coronay_list = list(np.array(corona['label'],dtype='int'))\n",
        "finaly_list= trainy_list + coronay_list\n",
        "print(len(finaly_list))"
      ],
      "execution_count": null,
      "outputs": [
        {
          "output_type": "stream",
          "text": [
            "20800\n",
            "21964\n",
            "20800\n",
            "21964\n"
          ],
          "name": "stdout"
        }
      ]
    },
    {
      "cell_type": "code",
      "metadata": {
        "id": "h8IRcppK0SxC",
        "colab_type": "code",
        "colab": {}
      },
      "source": [
        "#X_train, X_test, y_train, y_test = train_test_split(train['pro'].values, train_label, random_state=0) \n",
        "X_train, X_test, y_train, y_test = train_test_split(final_list, finaly_list, random_state=0)"
      ],
      "execution_count": null,
      "outputs": []
    },
    {
      "cell_type": "code",
      "metadata": {
        "id": "6XTnv28EyYK6",
        "colab_type": "code",
        "colab": {}
      },
      "source": [
        "#tfidf_vectorizer = TfidfVectorizer(analyzer='word',ngram_range=(1,3),max_df=0.5,smooth_idf=True,norm='l2')\n",
        "tfidf_vectorizer = TfidfVectorizer(analyzer='word',lowercase=True, max_df=0.5, max_features=None, ngram_range=(1, 2), norm='l2',use_idf=True)\n",
        "#tfidf_train = tfidf_vectorizer.fit(train['pro'].values)\n",
        "tfidf_train = tfidf_vectorizer.fit(final_list)\n",
        "#tfidf_train_ans = train['label'].values\n",
        "tfidf_train_ans = finaly_list\n",
        "tfidf_train = tfidf_vectorizer.transform(final_list)\n",
        "corona_train= tfidf_vectorizer.transform(corona['pro'].values)\n",
        "#tfidf_test = tfidf_vectorizer.fit_transform(test['full'].values)"
      ],
      "execution_count": null,
      "outputs": []
    },
    {
      "cell_type": "code",
      "metadata": {
        "id": "dQpqooCnCnQ3",
        "colab_type": "code",
        "colab": {}
      },
      "source": [
        "X_train=tfidf_vectorizer.transform(X_train)\n",
        "X_test=tfidf_vectorizer.transform(X_test)"
      ],
      "execution_count": null,
      "outputs": []
    },
    {
      "cell_type": "code",
      "metadata": {
        "id": "6wJVDM6e0Wor",
        "colab_type": "code",
        "colab": {
          "base_uri": "https://localhost:8080/",
          "height": 50
        },
        "outputId": "ece7e284-56bd-445d-f019-2cf8647ed1a0"
      },
      "source": [
        "modelNB = MultinomialNB()   #NaiveBayes\n",
        "modelNB.fit(X_train, y_train)\n",
        "#print(modelNB.score(corona_train,corona_label))\n",
        "print('Accuracy of NaiveBayes classifier on training set: {:.2f}'.format(modelNB.score(X_train, y_train)))\n",
        "print('Accuracy of NaiveBayes classifier on test set: {:.2f}'.format(modelNB.score(X_test, y_test)))"
      ],
      "execution_count": null,
      "outputs": [
        {
          "output_type": "stream",
          "text": [
            "Accuracy of NaiveBayes classifier on training set: 0.93\n",
            "Accuracy of NaiveBayes classifier on test set: 0.82\n"
          ],
          "name": "stdout"
        }
      ]
    },
    {
      "cell_type": "code",
      "metadata": {
        "id": "4M1Smz5W0YXW",
        "colab_type": "code",
        "colab": {
          "base_uri": "https://localhost:8080/",
          "height": 50
        },
        "outputId": "4743dacf-6bb6-46e6-899d-4cc0cbd1523b"
      },
      "source": [
        "#logreg = LogisticRegression(max_iter=200,random_state=0)\n",
        "logreg=LogisticRegression(C=25, class_weight=None, dual=False, fit_intercept=True,intercept_scaling=1, l1_ratio=None, max_iter=1000,multi_class='auto', n_jobs=None, penalty='l2',random_state=0, solver='lbfgs', tol=0.0001, verbose=0,warm_start=False)\n",
        "logreg.fit(X_train, y_train)\n",
        "print('Accuracy of LogisticRegress classifier on training set: {:.3f}'.format(logreg.score(X_train, y_train)))\n",
        "print('Accuracy of LogisticRegress classifier on test set: {:.3f}'.format(logreg.score(X_test, y_test)))"
      ],
      "execution_count": null,
      "outputs": [
        {
          "output_type": "stream",
          "text": [
            "Accuracy of LogisticRegress classifier on training set: 0.999\n",
            "Accuracy of LogisticRegress classifier on test set: 0.963\n"
          ],
          "name": "stdout"
        }
      ]
    },
    {
      "cell_type": "code",
      "metadata": {
        "id": "LqrKXX9m78CW",
        "colab_type": "code",
        "colab": {
          "base_uri": "https://localhost:8080/",
          "height": 33
        },
        "outputId": "08517d74-60f7-481f-f8e7-02f09c4ef516"
      },
      "source": [
        "print('Accuracy of LogisticRegress classifier on COVID dataset : {:.3f}'.format(logreg.score(corona_train, corona_label)))"
      ],
      "execution_count": null,
      "outputs": [
        {
          "output_type": "stream",
          "text": [
            "Accuracy of LogisticRegress classifier on COVID dataset : 0.930\n"
          ],
          "name": "stdout"
        }
      ]
    },
    {
      "cell_type": "code",
      "metadata": {
        "id": "t676vkPmCLj_",
        "colab_type": "code",
        "colab": {
          "base_uri": "https://localhost:8080/",
          "height": 137
        },
        "outputId": "40008218-98df-4e72-e62e-165c61fa4fce"
      },
      "source": [
        "submit = pd.read_csv('/content/drive/My Drive/Project/submit.csv')\n",
        "tfdif2 = tfidf_vectorizer.transform(test['pro'].values)\n",
        "predictions = logreg.predict(tfdif2)\n",
        "pred = pd.DataFrame(predictions,columns=['label'])\n",
        "pred['id']=test['id']\n",
        "pred.groupby('label').count()"
      ],
      "execution_count": null,
      "outputs": [
        {
          "output_type": "execute_result",
          "data": {
            "text/html": [
              "<div>\n",
              "<style scoped>\n",
              "    .dataframe tbody tr th:only-of-type {\n",
              "        vertical-align: middle;\n",
              "    }\n",
              "\n",
              "    .dataframe tbody tr th {\n",
              "        vertical-align: top;\n",
              "    }\n",
              "\n",
              "    .dataframe thead th {\n",
              "        text-align: right;\n",
              "    }\n",
              "</style>\n",
              "<table border=\"1\" class=\"dataframe\">\n",
              "  <thead>\n",
              "    <tr style=\"text-align: right;\">\n",
              "      <th></th>\n",
              "      <th>id</th>\n",
              "    </tr>\n",
              "    <tr>\n",
              "      <th>label</th>\n",
              "      <th></th>\n",
              "    </tr>\n",
              "  </thead>\n",
              "  <tbody>\n",
              "    <tr>\n",
              "      <th>0</th>\n",
              "      <td>2645</td>\n",
              "    </tr>\n",
              "    <tr>\n",
              "      <th>1</th>\n",
              "      <td>2555</td>\n",
              "    </tr>\n",
              "  </tbody>\n",
              "</table>\n",
              "</div>"
            ],
            "text/plain": [
              "         id\n",
              "label      \n",
              "0      2645\n",
              "1      2555"
            ]
          },
          "metadata": {
            "tags": []
          },
          "execution_count": 58
        }
      ]
    },
    {
      "cell_type": "code",
      "metadata": {
        "id": "WxEZWS8UErua",
        "colab_type": "code",
        "colab": {
          "base_uri": "https://localhost:8080/",
          "height": 33
        },
        "outputId": "f0856386-5148-4089-a8db-d3ca4a57be72"
      },
      "source": [
        "accuracy=(sum(pred['label'] == submit['label']))/(len(pred['label']))\n",
        "print(accuracy)"
      ],
      "execution_count": null,
      "outputs": [
        {
          "output_type": "stream",
          "text": [
            "0.6357692307692308\n"
          ],
          "name": "stdout"
        }
      ]
    },
    {
      "cell_type": "code",
      "metadata": {
        "id": "mnVfUwDzJ1uB",
        "colab_type": "code",
        "colab": {
          "base_uri": "https://localhost:8080/",
          "height": 67
        },
        "outputId": "e9f17c2e-c52b-44c3-85ee-848c96e87f3a"
      },
      "source": [
        "article=input(\"Enter article\")\n",
        "ps=PorterStemmer()\n",
        "stopWords = set(stopwords.words('english'))\n",
        "words = word_tokenize(article)\n",
        "stem=[]\n",
        "for w in words:\n",
        "  if w not in stopWords:\n",
        "    stem.append(ps.stem(w))\n",
        "finalart=' '.join(stem)\n",
        "final=[]\n",
        "final.append(finalart)\n",
        "print(final)\n",
        "test1=tfidf_vectorizer.transform(final)\n",
        "if logreg.predict(test1)==0:\n",
        "  print(\"News is reliable\")\n",
        "else:\n",
        "    print(\"News is unreliable\")\n",
        "#print(logreg.predict(test1))\n",
        "\n",
        "\n"
      ],
      "execution_count": null,
      "outputs": [
        {
          "output_type": "stream",
          "text": [
            "Enter articleas\n",
            "['']\n",
            "News is unreliable\n"
          ],
          "name": "stdout"
        }
      ]
    },
    {
      "cell_type": "code",
      "metadata": {
        "id": "KJBQ_jklleRz",
        "colab_type": "code",
        "colab": {}
      },
      "source": [
        ""
      ],
      "execution_count": null,
      "outputs": []
    },
    {
      "cell_type": "code",
      "metadata": {
        "id": "-2aWUKI_V1z0",
        "colab_type": "code",
        "colab": {}
      },
      "source": [
        "from numpy import loadtxt\n",
        "from xgboost import XGBClassifier\n",
        "from sklearn.model_selection import train_test_split\n",
        "from sklearn.metrics import accuracy_score"
      ],
      "execution_count": null,
      "outputs": []
    },
    {
      "cell_type": "code",
      "metadata": {
        "id": "gMU_0xIyWFID",
        "colab_type": "code",
        "colab": {
          "base_uri": "https://localhost:8080/",
          "height": 33
        },
        "outputId": "20abc718-16fc-46af-9050-84b667be2a21"
      },
      "source": [
        "# fit model no training data\n",
        "model = XGBClassifier()\n",
        "model.fit(X_train, y_train)"
      ],
      "execution_count": null,
      "outputs": [
        {
          "output_type": "execute_result",
          "data": {
            "text/plain": [
              "XGBClassifier()"
            ]
          },
          "metadata": {
            "tags": []
          },
          "execution_count": 62
        }
      ]
    },
    {
      "cell_type": "code",
      "metadata": {
        "id": "-Y_tHRlcZnpX",
        "colab_type": "code",
        "colab": {}
      },
      "source": [
        "# make predictions for test data\n",
        "y_pred = model.predict(X_test)\n",
        "predictions = [round(value) for value in y_pred]"
      ],
      "execution_count": null,
      "outputs": []
    },
    {
      "cell_type": "code",
      "metadata": {
        "id": "YoqcnJDAYVXc",
        "colab_type": "code",
        "colab": {
          "base_uri": "https://localhost:8080/",
          "height": 50
        },
        "outputId": "37d31f91-4376-4842-c7c2-0e173ebb270c"
      },
      "source": [
        "print('Accuracy of XGB classifier on training set: {:.2f}'.format(model.score(X_train, y_train)))\n",
        "print('Accuracy of XGB classifier on test set: {:.2f}'.format(model.score(X_test, y_test)))"
      ],
      "execution_count": null,
      "outputs": [
        {
          "output_type": "stream",
          "text": [
            "Accuracy of XGB classifier on training set: 0.96\n",
            "Accuracy of XGB classifier on test set: 0.96\n"
          ],
          "name": "stdout"
        }
      ]
    },
    {
      "cell_type": "code",
      "metadata": {
        "id": "72TekbiboLMS",
        "colab_type": "code",
        "colab": {
          "base_uri": "https://localhost:8080/",
          "height": 33
        },
        "outputId": "e48c219f-2a1e-4a6b-8c25-96c3e35129df"
      },
      "source": [
        "print('Accuracy of XGB classifier  on COVID dataset : {:.3f}'.format(model.score(corona_train, corona_label)))"
      ],
      "execution_count": null,
      "outputs": [
        {
          "output_type": "stream",
          "text": [
            "Accuracy of XGB classifier  on COVID dataset : 0.704\n"
          ],
          "name": "stdout"
        }
      ]
    },
    {
      "cell_type": "code",
      "metadata": {
        "colab_type": "code",
        "id": "89EXINg4Ev7k",
        "colab": {}
      },
      "source": [
        "import pickle\n",
        "pickle.dump(tfidf_vectorizer,open('/content/drive/My Drive/Project/tfidf.pkl','wb'))"
      ],
      "execution_count": null,
      "outputs": []
    },
    {
      "cell_type": "code",
      "metadata": {
        "id": "5RoDNgxPQSGt",
        "colab_type": "code",
        "colab": {
          "base_uri": "https://localhost:8080/",
          "height": 33
        },
        "outputId": "33254ced-6f60-4d02-8515-e39858342c59"
      },
      "source": [
        "import joblib \n",
        "  \n",
        "# Save the model as a pickle in a file \n",
        "joblib.dump(logreg, '/content/drive/My Drive/Project/logregmodel.pkl')\n"
      ],
      "execution_count": null,
      "outputs": [
        {
          "output_type": "execute_result",
          "data": {
            "text/plain": [
              "['/content/drive/My Drive/Project/logregmodel.pkl']"
            ]
          },
          "metadata": {
            "tags": []
          },
          "execution_count": 67
        }
      ]
    },
    {
      "cell_type": "code",
      "metadata": {
        "id": "yLrDav07Muk_",
        "colab_type": "code",
        "colab": {
          "base_uri": "https://localhost:8080/",
          "height": 50
        },
        "outputId": "6faa77f0-f1bc-46e8-bc6e-3b6a05e379ce"
      },
      "source": [
        "from sklearn.pipeline import Pipeline\n",
        "from sklearn.model_selection import GridSearchCV\n",
        "pipeline = Pipeline([\n",
        "    ('tfidf', TfidfVectorizer(smooth_idf=True)),\n",
        "    ('clf', LogisticRegression(max_iter=1000)),\n",
        "])\n",
        "parameters = {\n",
        "    'clf__C':[10,25,45,50,55,60],\n",
        "    'clf__tol':[0.0001,0.001,0.01,0.1,1]\n",
        "}\n",
        "\n",
        "grid_search_tune = GridSearchCV(pipeline, parameters)\n",
        "grid_search_tune.fit(final_list, finaly_list)\n",
        "\n",
        "print(\"Best parameters set:\")\n",
        "print(grid_search_tune.best_estimator_.steps)"
      ],
      "execution_count": null,
      "outputs": [
        {
          "output_type": "stream",
          "text": [
            "Best parameters set:\n",
            "[('tfidf', TfidfVectorizer()), ('clf', LogisticRegression(C=45, max_iter=1000, tol=1))]\n"
          ],
          "name": "stdout"
        }
      ]
    }
  ]
}